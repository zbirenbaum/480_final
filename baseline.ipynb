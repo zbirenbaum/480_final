{
 "cells": [
  {
   "cell_type": "code",
   "execution_count": 1,
   "metadata": {},
   "outputs": [],
   "source": [
    "from microtc.utils import tweet_iterator\n",
    "from os.path import join\n",
    "from EvoMSA import base\n",
    "import json\n",
    "from b4msa.textmodel import TextModel\n",
    "from sklearn.svm import LinearSVC\n",
    "from sklearn.preprocessing import LabelEncoder\n",
    "import numpy as np\n",
    "from sklearn.metrics import recall_score\n",
    "from sklearn.model_selection import KFold\n",
    "from EvoMSA.utils import bootstrap_confidence_interval\n",
    "from prepare_data import Tweet\n",
    "from sklearn.model_selection import train_test_split\n",
    "from evaluate import model_Evaluate\n",
    "from sklearn import metrics\n",
    "from EvoMSA.utils import bootstrap_confidence_interval"
   ]
  },
  {
   "cell_type": "code",
   "execution_count": 2,
   "metadata": {},
   "outputs": [
    {
     "name": "stderr",
     "output_type": "stream",
     "text": [
      "100%|██████████| 1/1 [00:31<00:00, 31.06s/it]\n",
      "100%|██████████| 5/5 [00:02<00:00,  2.12it/s]\n"
     ]
    }
   ],
   "source": [
    "\n",
    "Tweet=Tweet('data/20000.csv')\n",
    "Tweet.prepare_data()\n",
    "x_train, x_test, y_train, y_test = train_test_split(Tweet.raw_texts, Tweet.targets, test_size=0.2,random_state=1) # 70% training and 30% test\n",
    "evo = base.EvoMSA(TR=False, B4MSA=True, Emo=False, stacked_method=\"sklearn.naive_bayes.GaussianNB\", lang=\"en\").fit(x_train,y_train)\n",
    "\n",
    "# tm = TextModel(lang=\"english\", token_list=[-1], stemming=True).fit(x_train)\n",
    "# le = LabelEncoder().fit(['0', '4'])\n",
    "\n",
    "# X = tm.transform(x_train)\n",
    "# y = le.transform(y_train)\n",
    "# m = LinearSVC().fit(X, y)\n",
    "\n",
    "# model_Evaluate(m,x_test,y_test)"
   ]
  },
  {
   "cell_type": "code",
   "execution_count": 3,
   "metadata": {},
   "outputs": [
    {
     "name": "stderr",
     "output_type": "stream",
     "text": [
      "100%|██████████| 1/1 [00:08<00:00,  8.02s/it]\n",
      "100%|██████████| 1/1 [00:00<00:00, 158.18it/s]\n"
     ]
    },
    {
     "name": "stdout",
     "output_type": "stream",
     "text": [
      "              precision    recall  f1-score   support\n",
      "\n",
      "           0       0.77      0.73      0.75      2029\n",
      "           4       0.74      0.78      0.76      1954\n",
      "\n",
      "    accuracy                           0.75      3983\n",
      "   macro avg       0.75      0.75      0.75      3983\n",
      "weighted avg       0.75      0.75      0.75      3983\n",
      "\n",
      "(0.7419030881245292, 0.7624905849861913)\n"
     ]
    },
    {
     "data": {
      "image/png": "[encoded data removed]",
      "text/plain": [
       "<Figure size 432x288 with 2 Axes>"
      ]
     },
     "metadata": {
      "needs_background": "light"
     },
     "output_type": "display_data"
    }
   ],
   "source": [
    "\n",
    "model_Evaluate(evo,x_test,y_test)\n"
   ]
  }
 ],
 "metadata": {
  "interpreter": {
   "hash": "aee8b7b246df8f9039afb4144a1f6fd8d2ca17a180786b69acc140d282b71a49"
  },
  "kernelspec": {
   "display_name": "Python 3.9.6 64-bit",
   "language": "python",
   "name": "python3"
  },
  "language_info": {
   "codemirror_mode": {
    "name": "ipython",
    "version": 3
   },
   "file_extension": ".py",
   "mimetype": "text/x-python",
   "name": "python",
   "nbconvert_exporter": "python",
   "pygments_lexer": "ipython3",
   "version": "3.9.6"
  },
  "orig_nbformat": 4
 },
 "nbformat": 4,
 "nbformat_minor": 2
}
